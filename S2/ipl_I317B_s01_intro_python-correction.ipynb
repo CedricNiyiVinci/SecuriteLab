{
 "cells": [
  {
   "cell_type": "markdown",
   "metadata": {},
   "source": [
    "# ipl I317B Sécurité : labos\n",
    "## Semaine 1 : introduction et outils python\n",
    "\n",
    "### Partie 1 : manipuler du texte"
   ]
  },
  {
   "cell_type": "markdown",
   "metadata": {},
   "source": [
    "#### Exercice 1\n",
    "Pour ce premier exercice, nous allons manipuler un court extrait de logs d'un serveur web nginx.  \n",
    "Pour chaque ligne de celui-ci, extrayez:\n",
    "- l'adresse IP\n",
    "- le timestamp\n",
    "- le chemin demandé"
   ]
  },
  {
   "cell_type": "code",
   "execution_count": 1,
   "metadata": {},
   "outputs": [],
   "source": [
    "logs = \"\"\"91.160.48.68 - - [3/Sep/2020:18:18:10 +0200] \"GET /?C=M;O=D HTTP/1.1\" 301 178 \"-\" \"Mozilla/5.0 (Windows NT 10.0; Win64; x64; rv:80.0) Gecko/20100101 Firefox/80.0\" \"-\"\n",
    "78.224.72.158 - - [3/Sep/2020:18:24:52 +0200] \"GET / HTTP/1.1\" 301 178 \"-\" \"Mozilla/5.0 (Windows NT 10.0; Win64; x64; rv:80.0) Gecko/20100101 Firefox/80.0\" \"-\"\n",
    "192.241.199.4 - - [3/Sep/2020:19:11:15 +0200] \"GET / HTTP/1.1\" 301 178 \"-\" \"Mozilla/5.0 zgrab/0.x\" \"-\"\n",
    "40.121.69.161 - - [3/Sep/2020:19:16:32 +0200] \"GET /.env HTTP/1.1\" 301 178 \"-\" \"Mozilla/5.0 (X11; Linux x86_64) AppleWebKit/537.36 (KHTML, like Gecko) Chrome/81.0.4044.129 Safari/537.36\" \"-\"\n",
    "40.121.69.161 - - [3/Sep/2020:19:16:32 +0200] \"POST / HTTP/1.1\" 301 178 \"-\" \"Mozilla/5.0 (X11; Linux x86_64) AppleWebKit/537.36 (KHTML, like Gecko) Chrome/81.0.4044.129 Safari/537.36\" \"-\"\n",
    "185.172.110.223 - - [3/Sep/2020:19:16:37 +0200] \"GET / HTTP/1.1\" 301 178 \"-\" \"Mozilla/5.0 (X11; Ubuntu; Linux x86_64; rv:76.0) Gecko/20100101 Firefox/76.0\" \"-\"\n",
    "66.249.75.16 - - [3/Sep/2020:19:23:28 +0200] \"GET / HTTP/1.1\" 301 178 \"-\" \"Mozilla/5.0 (Linux; Android 6.0.1; Nexus 5X Build/MMB29P) AppleWebKit/537.36 (KHTML, like Gecko) Chrome/85.0.4183.97 Mobile Safari/537.36 (compatible; Googlebot/2.1; +http://www.google.com/bot.html)\" \"-\"\n",
    "66.249.75.23 - - [3/Sep/2020:19:23:30 +0200] \"GET / HTTP/1.1\" 200 0 \"-\" \"Mozilla/5.0 (Linux; Android 6.0.1; Nexus 5X Build/MMB29P) AppleWebKit/537.36 (KHTML, like Gecko) Chrome/85.0.4183.97 Mobile Safari/537.36 (compatible; Googlebot/2.1; +http://www.google.com/bot.html)\" \"-\" \"\"\""
   ]
  },
  {
   "cell_type": "code",
   "execution_count": 2,
   "metadata": {},
   "outputs": [
    {
     "name": "stdout",
     "output_type": "stream",
     "text": [
      "ip: 91.160.48.68\n",
      "ts: 3/Sep/2020:18:18:10 +0200\n",
      "path: /?C=M;O=D\n",
      "----------\n",
      "ip: 78.224.72.158\n",
      "ts: 3/Sep/2020:18:24:52 +0200\n",
      "path: /\n",
      "----------\n",
      "ip: 192.241.199.4\n",
      "ts: 3/Sep/2020:19:11:15 +0200\n",
      "path: /\n",
      "----------\n",
      "ip: 40.121.69.161\n",
      "ts: 3/Sep/2020:19:16:32 +0200\n",
      "path: /.env\n",
      "----------\n",
      "ip: 40.121.69.161\n",
      "ts: 3/Sep/2020:19:16:32 +0200\n",
      "path: /\n",
      "----------\n",
      "ip: 185.172.110.223\n",
      "ts: 3/Sep/2020:19:16:37 +0200\n",
      "path: /\n",
      "----------\n",
      "ip: 66.249.75.16\n",
      "ts: 3/Sep/2020:19:23:28 +0200\n",
      "path: /\n",
      "----------\n",
      "ip: 66.249.75.23\n",
      "ts: 3/Sep/2020:19:23:30 +0200\n",
      "path: /\n",
      "----------\n"
     ]
    }
   ],
   "source": [
    "for line in logs.split(\"\\n\"):\n",
    "    print(\"ip:\",   line.split(\" \", 1)[0])\n",
    "    print(\"ts:\",   line.split(\"[\", 1)[1].split(\"]\")[0])\n",
    "    print(\"path:\", line.split('\"')[1].split()[1])\n",
    "    print(\"-\" * 10)"
   ]
  },
  {
   "cell_type": "markdown",
   "metadata": {},
   "source": [
    "#### Exercice 2\n",
    "Avec les mêmes logs que l'exercice précédent, comptez et affichez les différents user-agent."
   ]
  },
  {
   "cell_type": "code",
   "execution_count": 16,
   "metadata": {},
   "outputs": [
    {
     "name": "stdout",
     "output_type": "stream",
     "text": [
      "2 => Mozilla/5.0 (Windows NT 10.0; Win64; x64; rv:80.0) Gecko/20100101 Firefox/80.0\n",
      "1 => Mozilla/5.0 zgrab/0.x\n",
      "2 => Mozilla/5.0 (X11; Linux x86_64) AppleWebKit/537.36 (KHTML, like Gecko) Chrome/81.0.4044.129 Safari/537.36\n",
      "1 => Mozilla/5.0 (X11; Ubuntu; Linux x86_64; rv:76.0) Gecko/20100101 Firefox/76.0\n",
      "2 => Mozilla/5.0 (Linux; Android 6.0.1; Nexus 5X Build/MMB29P) AppleWebKit/537.36 (KHTML, like Gecko) Chrome/85.0.4183.97 Mobile Safari/537.36 (compatible; Googlebot/2.1; +http://www.google.com/bot.html)\n"
     ]
    }
   ],
   "source": [
    "all_ua = {}\n",
    "\n",
    "for line in logs.split(\"\\n\"):\n",
    "    ua = line.split('\"')[5]\n",
    "    \n",
    "    if ua not in all_ua:\n",
    "        all_ua[ua] = 0\n",
    "\n",
    "    all_ua[ua] += 1\n",
    "    \n",
    "for k, v in all_ua.items():\n",
    "    print(v, \"=>\", k)"
   ]
  },
  {
   "cell_type": "markdown",
   "metadata": {},
   "source": [
    "### Partie 2 : requests et BeautifulSoup\n",
    "\n",
    "Assurez vous que les paquets suivant soient bien installé :\n",
    "\n",
    "`pip3 install --user requests bs4`\n",
    "\n",
    "`sudo pip3 install requests bs4`\n",
    "\n",
    "Depuis un jupyter notebook, vous pouvez probablement juste executer la case suivante :"
   ]
  },
  {
   "cell_type": "code",
   "execution_count": 57,
   "metadata": {},
   "outputs": [
    {
     "name": "stdout",
     "output_type": "stream",
     "text": [
      "Requirement already satisfied: requests in /opt/conda/lib/python3.10/site-packages (2.28.1)\n",
      "Requirement already satisfied: bs4 in ./.local/lib/python3.10/site-packages (0.0.1)\n",
      "Requirement already satisfied: charset-normalizer<3,>=2 in /opt/conda/lib/python3.10/site-packages (from requests) (2.1.0)\n",
      "Requirement already satisfied: urllib3<1.27,>=1.21.1 in /opt/conda/lib/python3.10/site-packages (from requests) (1.26.11)\n",
      "Requirement already satisfied: idna<4,>=2.5 in /opt/conda/lib/python3.10/site-packages (from requests) (3.3)\n",
      "Requirement already satisfied: certifi>=2017.4.17 in /opt/conda/lib/python3.10/site-packages (from requests) (2022.6.15)\n",
      "Requirement already satisfied: beautifulsoup4 in /opt/conda/lib/python3.10/site-packages (from bs4) (4.11.1)\n",
      "Requirement already satisfied: soupsieve>1.2 in /opt/conda/lib/python3.10/site-packages (from beautifulsoup4->bs4) (2.3.2.post1)\n"
     ]
    }
   ],
   "source": [
    "!pip3 install --user requests bs4"
   ]
  },
  {
   "cell_type": "markdown",
   "metadata": {},
   "source": [
    "Le packet requests nous permet de faire des requêtes web facilement, par exemple :"
   ]
  },
  {
   "cell_type": "code",
   "execution_count": 4,
   "metadata": {},
   "outputs": [],
   "source": [
    "import requests\n",
    "\n",
    "ipl_req = requests.get(\"https://www.vinci.be/fr/formations/informatique-de-gestion\")\n",
    "\n",
    "if ipl_req.ok:\n",
    "    ipl_html = ipl_req.text\n",
    "else:\n",
    "    print(ipl_req.status_code)\n",
    "    print(ipl_req.reason)\n",
    "\n",
    "# Doc requests : https://requests.readthedocs.io/en/latest/ )"
   ]
  },
  {
   "cell_type": "markdown",
   "metadata": {},
   "source": [
    "Nous pouvons ensuite lire le code source de la page en affichant `ipl_html`.\n",
    "\n",
    "Parser du html avec des split ou des regex deviendrait vite infernal, c'est là qu'intervient la librairie BeautifulSoup qui nous permet de parcourir beaucoup plus simplement le dom notamment avec les fonctions `find` et `find_all`."
   ]
  },
  {
   "cell_type": "code",
   "execution_count": 5,
   "metadata": {},
   "outputs": [
    {
     "name": "stdout",
     "output_type": "stream",
     "text": [
      "Informatique de gestion | HE VINCI\n"
     ]
    }
   ],
   "source": [
    "from bs4 import BeautifulSoup\n",
    "\n",
    "soup = BeautifulSoup(ipl_html)\n",
    "\n",
    "# pour récupérer le contenu de la balise <title> :\n",
    "title = soup.find(\"title\").get_text()\n",
    "\n",
    "print(title)"
   ]
  },
  {
   "cell_type": "markdown",
   "metadata": {},
   "source": [
    "La fonction `find` et la fonction `find_all` vous renverons un object de type `tag` (balise) sur lequel vous pouvez faire :\n",
    "  * d'autres `find()` et `find_all()`\n",
    "  * `get_text()` pour récupérer tout le contenu textuel de la balise\n",
    "  * `[\"nom de l'attribut\"]` pour récupérer un attribut en particulier (exemple: `tag['href']`)\n",
    "  * ...\n",
    "\n",
    "( Doc BeautifulSoup4 : https://www.crummy.com/software/BeautifulSoup/bs4/doc/ )"
   ]
  },
  {
   "cell_type": "markdown",
   "metadata": {},
   "source": [
    "#### Exercice 1:\n",
    "Récupérez le contenue de la page suivante et affichez son titre proprement : https://www.vinci.be/fr/formations/informatique-de-gestion"
   ]
  },
  {
   "cell_type": "code",
   "execution_count": 6,
   "metadata": {},
   "outputs": [
    {
     "name": "stdout",
     "output_type": "stream",
     "text": [
      "Informatique de gestion | HE VINCI\n"
     ]
    }
   ],
   "source": [
    "from bs4 import BeautifulSoup\n",
    "import requests\n",
    "\n",
    "ipl_req = requests.get(\"https://www.vinci.be/fr/formations/informatique-de-gestion\")\n",
    "ipl_html = ipl_req.text\n",
    "\n",
    "soup = BeautifulSoup(ipl_html)\n",
    "\n",
    "# pour récupérer le contenu de la balise <title> :\n",
    "title = soup.find(\"title\").get_text()\n",
    "\n",
    "print(title)"
   ]
  },
  {
   "cell_type": "markdown",
   "metadata": {},
   "source": [
    "Il est possible de faire des requêtes beaucoup plus poussée en ajoutant des arguments correspondant aux attributs des balises que nous cherchons, par exemple pour trouver les balises `<div class=\"footer\"></div>` :\n",
    "\n",
    "```\n",
    "soup.find_all(\"div\", class_=\"footer\")\n",
    "# NB: class est un mot clé réservé en python, d'où l'ajout du \"_\" dans BeautifulSoup\n",
    "```\n",
    "\n",
    "Ou encore pour trouver tous les liens vers la page facebook de l'ipl :\n",
    "\n",
    "`soup.find_all(\"a\", href=\"https://www.facebook.com/HEVINCI\")`\n",
    "\n",
    "BeautifoulSoup accepte également des regex compilée en argument, il est donc possible de récupérer la liste des url qui ne sont pas du domaines de \"vinci.be\" :\n",
    "\n",
    "```\n",
    "import re\n",
    "\n",
    "not_vinci = re.compile(\"^http(s?)://(?!www.vinci.be/).*$\")\n",
    "soup.find_all(\"a\", href=not_vinci)\n",
    "```\n",
    "\n",
    "Il est également possible d'utiliser une fonction arbitraire pour valider les liens. Par exemple, pour trouver tous les liens de moins de 30 caractères :\n",
    "\n",
    "```\n",
    "def less_than_30(tag):\n",
    "    return len(tag) < 30  # on retourne un booleen\n",
    "    \n",
    "# on passe notre fonction en paramètre sans l'executer :\n",
    "soup.find_all(\"a\", href=less_than_30)\n",
    "```"
   ]
  },
  {
   "cell_type": "markdown",
   "metadata": {},
   "source": [
    "#### Exercice 2:\n",
    "\n",
    "Utilisez des regex pour récupérer la liste des liens http (et donc pas https) sur la page :  \n",
    "https://www.vinci.be/fr/formations/informatique-de-gestion"
   ]
  },
  {
   "cell_type": "code",
   "execution_count": 7,
   "metadata": {},
   "outputs": [],
   "source": [
    "ipl_https = requests.get(\"https://www.vinci.be/fr/formations/informatique-de-gestion\")"
   ]
  },
  {
   "cell_type": "code",
   "execution_count": 8,
   "metadata": {},
   "outputs": [
    {
     "name": "stdout",
     "output_type": "stream",
     "text": [
      "http://www.enseignement.be/index.php?page=4323\n"
     ]
    }
   ],
   "source": [
    "import re\n",
    "\n",
    "not_https = re.compile(\"^http://.*$\")\n",
    "\n",
    "for link in soup.find_all(\"a\", href=not_https):\n",
    "    print(link['href'])"
   ]
  },
  {
   "cell_type": "code",
   "execution_count": 9,
   "metadata": {},
   "outputs": [
    {
     "name": "stdout",
     "output_type": "stream",
     "text": [
      "http://www.enseignement.be/index.php?page=4323\n"
     ]
    }
   ],
   "source": [
    "import re\n",
    "\n",
    "def not_https(href):\n",
    "    return href.startswith(\"http://\")\n",
    "\n",
    "for link in soup.find_all(\"a\", href=not_https):\n",
    "    print(link['href'])"
   ]
  },
  {
   "cell_type": "markdown",
   "metadata": {},
   "source": [
    "#### Exercice 3:\n",
    "\n",
    "Utilisez une fonction pour récupérer tous les liens qui finissent avec une extension désignant un type de ficher (ex: \".html\", \".php\", \".pdf\", ...) sur la page :  \n",
    "https://www.vinci.be/fr/formations/informatique-de-gestion"
   ]
  },
  {
   "cell_type": "code",
   "execution_count": 10,
   "metadata": {},
   "outputs": [
    {
     "name": "stdout",
     "output_type": "stream",
     "text": [
      "https://www.vinci.be/uploads/brochures/INFORMATIQUE_GESTION_HEVINCI_21-22.pdf\n",
      "https://progcours.vinci.be/cocoon/programmes/E1BINV01_C.html\n"
     ]
    }
   ],
   "source": [
    "import re\n",
    "\n",
    "ext = re.compile(\"^https://.*/.*\\.[a-zA-Z]{1,5}$\")\n",
    "\n",
    "for link in soup.find_all(\"a\", href=ext):\n",
    "    print(link['href'])"
   ]
  },
  {
   "cell_type": "markdown",
   "metadata": {},
   "source": [
    "#### Exercice 4:\n",
    "Depuis le site du Centre Cybersecurité Belgique https://ccb.belgium.be/fr/actualit%C3%A9s , récupérez la liste des articles récents et affichez leurs titres ainsi qu'un lien vers l'article."
   ]
  },
  {
   "cell_type": "code",
   "execution_count": 25,
   "metadata": {},
   "outputs": [
    {
     "name": "stdout",
     "output_type": "stream",
     "text": [
      "10 talents belges ont participé à la compétition European Cybersecurity Challenge\n",
      "https://ccb.belgium.be/fr/actualit%C3%A9/10-talents-belges-ont-particip%C3%A9-%C3%A0-la-comp%C3%A9tition-european-cybersecurity-challenge\n",
      "---\n",
      "Etape importante dans la certification de cybersécurité : un cadre juridique pour la délivrance et la reconnaissance de certificats européens liés à la cybersécurité est publié\n",
      "https://ccb.belgium.be/fr/actualit%C3%A9/etape-importante-dans-la-certification-de-cybers%C3%A9curit%C3%A9-un-cadre-juridique-pour-la\n",
      "---\n",
      "NCC-BE session d'information: EU Cybersecurity Funding Opportunities \n",
      "https://ccb.belgium.be/fr/actualit%C3%A9/ncc-be-session-dinformation-eu-cybersecurity-funding-opportunities\n",
      "---\n",
      "Nouveau guide pratique de cybersécurité pour les écoles publié par la Fédération Wallonie-Bruxelles\n",
      "https://ccb.belgium.be/fr/actualit%C3%A9/nouveau-guide-pratique-de-cybers%C3%A9curit%C3%A9-pour-les-%C3%A9coles-publi%C3%A9-par-la-f%C3%A9d%C3%A9ration-wallonie\n",
      "---\n",
      "Cyber Europe 2022 teste la résilience du secteur européen de la santé\n",
      "https://ccb.belgium.be/fr/actualit%C3%A9/cyber-europe-2022-teste-la-r%C3%A9silience-du-secteur-europ%C3%A9en-de-la-sant%C3%A9\n",
      "---\n",
      "NIS-2: état des lieux\n",
      "https://ccb.belgium.be/fr/actualit%C3%A9/nis-2-%C3%A9tat-des-lieux\n",
      "---\n",
      "Venez nous rendre visite au Forum International de la Cybersécurité (FIC, Lille 7-9 juin)\n",
      "https://ccb.belgium.be/fr/actualit%C3%A9/venez-nous-rendre-visite-au-forum-international-de-la-cybers%C3%A9curit%C3%A9-fic-lille-7-9-juin\n",
      "---\n",
      "Inauguration du consortium CyberWal ce vendredi 13 mai\n",
      "https://ccb.belgium.be/fr/actualit%C3%A9/inauguration-du-concortium-cyberwal-ce-vendredi-13-mai\n",
      "---\n",
      "Les chiffres sur le phishing en 2021 \n",
      "https://ccb.belgium.be/fr/actualit%C3%A9/les-chiffres-sur-le-phishing-en-2021\n",
      "---\n"
     ]
    }
   ],
   "source": [
    "page = requests.get(\"https://ccb.belgium.be/fr/actualit%C3%A9s\")\n",
    "soup = BeautifulSoup(page.text)\n",
    "\n",
    "for article in soup.find_all(\"article\"):\n",
    "    print(article.find(\"h2\").text)\n",
    "    print(\"https://ccb.belgium.be\" + article[\"onclick\"].split(\"'\")[1])\n",
    "    \n",
    "    print(\"---\")"
   ]
  },
  {
   "cell_type": "markdown",
   "metadata": {},
   "source": [
    "#### Exercice 5:\n",
    "La lib requests permet également d'effectuer de requête POST. Pour tester cette fonctionnalitée, créez un \"requestbin\" sur le site http://requestbin.net/ puis utilisez requests pour poster des données vers votre requestbin.\n",
    "\n",
    "> RequestBin gives you a URL that will collect requests made to it and let you inspect them in a human-friendly way.\n",
    "Use RequestBin to see what your HTTP client is sending or to inspect and debug webhook requests.\n",
    "\n",
    "\n",
    "Voir : https://requests.readthedocs.io/en/master/user/quickstart/#make-a-request (ou la cheatsheet)"
   ]
  },
  {
   "cell_type": "code",
   "execution_count": 27,
   "metadata": {},
   "outputs": [
    {
     "name": "stdout",
     "output_type": "stream",
     "text": [
      "200\n",
      "b'16636289691644104\\n'\n"
     ]
    }
   ],
   "source": [
    "import requests, time\n",
    "\n",
    "# https://requestbin.net/bins/view/4c37852bd009ba9399129d3f479e5f47ea131242\n",
    "\n",
    "r = requests.post('http://5mj29klz7ltbctx2.b.requestbin.net', data={\"ts\":time.time()})\n",
    "\n",
    "print(r.status_code)\n",
    "print(r.content)"
   ]
  },
  {
   "cell_type": "markdown",
   "metadata": {},
   "source": [
    "#### Exercice 6:\n",
    "\n",
    "Maintenant que vous maîtrisez le get, le post et quelques bases de parsing web, \"connectez-vous\" au formulaire suivant avec les identifiants : `admin/admin`  \n",
    "http://labosecuipl.alwaysdata.net/21/s01/form/"
   ]
  },
  {
   "cell_type": "code",
   "execution_count": null,
   "metadata": {},
   "outputs": [
    {
     "name": "stdout",
     "output_type": "stream",
     "text": [
      "<!DOCTYPE html>\n",
      "<html lang=\"en\">\n",
      "<p id='result'>Bad login !<p>\n",
      "<form method='POST'>\n",
      "  Login:<br>\n",
      "  <input type='text' name='login'><br>\n",
      "  Password:<br>\n",
      "  <input type='password' name='password'><br>\n",
      "  <input type='hidden' name='token' value='pjpge621xxc00g0csk0008gswc44k4k'>\n",
      "  <input type='submit' value='Submit'>\n",
      "</form></html>\n",
      "\n"
     ]
    }
   ],
   "source": [
    "req = requests.post(\"http://labosecuipl.alwaysdata.net/21/s01/form/\", data={\n",
    "    \"login\": \"admin\",\n",
    "    \"user\": \"admin\"\n",
    "})\n",
    "\n",
    "print(req.text)"
   ]
  },
  {
   "cell_type": "code",
   "execution_count": 33,
   "metadata": {},
   "outputs": [
    {
     "name": "stdout",
     "output_type": "stream",
     "text": [
      "<!DOCTYPE html>\n",
      "<html lang=\"en\">\n",
      "<p id='result'>Connected !</p></html>\n",
      "\n"
     ]
    }
   ],
   "source": [
    "session = requests.Session()\n",
    "\n",
    "# fetch the \"csrf\" token\n",
    "req = session.get(\"http://labosecuipl.alwaysdata.net/21/s01/form/\")\n",
    "soup = BeautifulSoup(req.text)\n",
    "token = soup.find('input', {'name': 'token'})[\"value\"]\n",
    "\n",
    "# connect\n",
    "req = session.post(\"http://labosecuipl.alwaysdata.net/21/s01/form/\", data={\n",
    "    \"login\": \"admin\",\n",
    "    \"password\": \"admin\",\n",
    "    \"token\": token\n",
    "})\n",
    "\n",
    "print(req.text)"
   ]
  },
  {
   "cell_type": "markdown",
   "metadata": {},
   "source": [
    "#### Exercice 7:\n",
    "Vous avez certainement constaté sur votre requestbin que la librairie requests utilise par défaut un User-Agent explicite \"*je suis un lib python pour faire des requêtes*\".  \n",
    "Documentez-vous sur la manière de changer celui-ci dans requests et remplacez le dans votre précédente requête vers requestbin par quelque chose de plus discret, par exemple l'user-agent de la dernière version de chrome :  \n",
    "`Mozilla/5.0 (Windows NT 10.0; Win64; x64) AppleWebKit/537.36 (KHTML, like Gecko) Chrome/93.0.4577.63 Safari/537.36`\n",
    "\n",
    "source: https://www.whatismybrowser.com/guides/the-latest-user-agent/chrome"
   ]
  },
  {
   "cell_type": "code",
   "execution_count": 47,
   "metadata": {},
   "outputs": [
    {
     "name": "stdout",
     "output_type": "stream",
     "text": [
      "Error: 406\n",
      "Reason: Not Acceptable\n"
     ]
    }
   ],
   "source": [
    "req = requests.get(\"http://whatsmyuseragent.org/\")\n",
    "\n",
    "if req.status_code != 200:\n",
    "    print(\"Error: %s\\nReason: %s\" % (req.status_code, req.reason))\n",
    "else:\n",
    "    soup = BeautifulSoup(req.text)\n",
    "\n",
    "    soup.find(\"div\", {\"class\": \"user-agent\"}).text.strip()"
   ]
  },
  {
   "cell_type": "code",
   "execution_count": 48,
   "metadata": {},
   "outputs": [
    {
     "data": {
      "text/plain": [
       "'Mozilla/5.0 (Windows NT 10.0; Win64; x64) AppleWebKit/537.36 (KHTML, like Gecko) Chrome/93.0.4577.63 Safari/537.36'"
      ]
     },
     "execution_count": 48,
     "metadata": {},
     "output_type": "execute_result"
    }
   ],
   "source": [
    "headers = {\n",
    "    'User-Agent': 'Mozilla/5.0 (Windows NT 10.0; Win64; x64) AppleWebKit/537.36 (KHTML, like Gecko) Chrome/93.0.4577.63 Safari/537.36',\n",
    "}\n",
    "\n",
    "req = requests.get(\"http://whatsmyuseragent.org/\", headers=headers)\n",
    "\n",
    "soup = BeautifulSoup(req.text)\n",
    "soup.find(\"div\", {\"class\": \"user-agent\"}).text.strip()"
   ]
  },
  {
   "cell_type": "markdown",
   "metadata": {},
   "source": [
    "# Partie 3 (bonus):\n",
    "\n",
    "Note: dans les jupyter notebook, vous pouvez exécuter des commandes shell en préfixant une cellule d'un `!`. Par exemple : `!date`.\n",
    "\n",
    "\n",
    "Exercice 1\n",
    "\n",
    "Pour ce premier exercice, nous allons manipuler un court extrait de logs \"logs.txt\" d'un serveur web nginx (le même que pour la partie 1).\n",
    "\n",
    "Pour chaque ligne de celui-ci, extrayez:\n",
    "\n",
    "    l'adresse IP\n",
    "    le timestamp\n",
    "    le chemin demandé\n",
    "\n",
    "En n'utilisant que des commandes bash : cat, grep, cut, sort, uniq,..."
   ]
  },
  {
   "cell_type": "code",
   "execution_count": 51,
   "metadata": {},
   "outputs": [
    {
     "name": "stdout",
     "output_type": "stream",
     "text": [
      "91.160.48.68 - - [3/Sep/2020:18:18:10 +0200] \"GET /?C=M;O=D HTTP/1.1\" 301 178 \"-\" \"Mozilla/5.0 (Windows NT 10.0; Win64; x64; rv:80.0) Gecko/20100101 Firefox/80.0\" \"-\"\n",
      "78.224.72.158 - - [3/Sep/2020:18:24:52 +0200] \"GET / HTTP/1.1\" 301 178 \"-\" \"Mozilla/5.0 (Windows NT 10.0; Win64; x64; rv:80.0) Gecko/20100101 Firefox/80.0\" \"-\"\n",
      "192.241.199.4 - - [3/Sep/2020:19:11:15 +0200] \"GET / HTTP/1.1\" 301 178 \"-\" \"Mozilla/5.0 zgrab/0.x\" \"-\"\n",
      "40.121.69.161 - - [3/Sep/2020:19:16:32 +0200] \"GET /.env HTTP/1.1\" 301 178 \"-\" \"Mozilla/5.0 (X11; Linux x86_64) AppleWebKit/537.36 (KHTML, like Gecko) Chrome/81.0.4044.129 Safari/537.36\" \"-\"\n",
      "40.121.69.161 - - [3/Sep/2020:19:16:32 +0200] \"POST / HTTP/1.1\" 301 178 \"-\" \"Mozilla/5.0 (X11; Linux x86_64) AppleWebKit/537.36 (KHTML, like Gecko) Chrome/81.0.4044.129 Safari/537.36\" \"-\"\n",
      "185.172.110.223 - - [3/Sep/2020:19:16:37 +0200] \"GET / HTTP/1.1\" 301 178 \"-\" \"Mozilla/5.0 (X11; Ubuntu; Linux x86_64; rv:76.0) Gecko/20100101 Firefox/76.0\" \"-\"\n",
      "66.249.75.16 - - [3/Sep/2020:19:23:28 +0200] \"GET / HTTP/1.1\" 301 178 \"-\" \"Mozilla/5.0 (Linux; Android 6.0.1; Nexus 5X Build/MMB29P) AppleWebKit/537.36 (KHTML, like Gecko) Chrome/85.0.4183.97 Mobile Safari/537.36 (compatible; Googlebot/2.1; +http://www.google.com/bot.html)\" \"-\"\n",
      "66.249.75.23 - - [3/Sep/2020:19:23:30 +0200] \"GET / HTTP/1.1\" 200 0 \"-\" \"Mozilla/5.0 (Linux; Android 6.0.1; Nexus 5X Build/MMB29P) AppleWebKit/537.36 (KHTML, like Gecko) Chrome/85.0.4183.97 Mobile Safari/537.36 (compatible; Googlebot/2.1; +http://www.google.com/bot.html)\" \"-\"\n"
     ]
    }
   ],
   "source": [
    "!cat logs.txt"
   ]
  },
  {
   "cell_type": "code",
   "execution_count": 50,
   "metadata": {},
   "outputs": [
    {
     "name": "stdout",
     "output_type": "stream",
     "text": [
      "91.160.48.68\n",
      "78.224.72.158\n",
      "192.241.199.4\n",
      "40.121.69.161\n",
      "40.121.69.161\n",
      "185.172.110.223\n",
      "66.249.75.16\n",
      "66.249.75.23\n"
     ]
    }
   ],
   "source": [
    "!cat logs.txt | cut -d \" \" -f 1"
   ]
  },
  {
   "cell_type": "code",
   "execution_count": 52,
   "metadata": {},
   "outputs": [
    {
     "name": "stdout",
     "output_type": "stream",
     "text": [
      "3/Sep/2020:18:18:10 +0200\n",
      "3/Sep/2020:18:24:52 +0200\n",
      "3/Sep/2020:19:11:15 +0200\n",
      "3/Sep/2020:19:16:32 +0200\n",
      "3/Sep/2020:19:16:32 +0200\n",
      "3/Sep/2020:19:16:37 +0200\n",
      "3/Sep/2020:19:23:28 +0200\n",
      "3/Sep/2020:19:23:30 +0200\n"
     ]
    }
   ],
   "source": [
    "!cat logs.txt | cut -d '[' -f 2 | cut -d ']' -f 1"
   ]
  },
  {
   "cell_type": "code",
   "execution_count": 54,
   "metadata": {},
   "outputs": [
    {
     "name": "stdout",
     "output_type": "stream",
     "text": [
      "/?C=M;O=D\n",
      "/\n",
      "/\n",
      "/.env\n",
      "/\n",
      "/\n",
      "/\n",
      "/\n"
     ]
    }
   ],
   "source": [
    "!cat logs.txt | cut -d ' ' -f 7"
   ]
  },
  {
   "cell_type": "markdown",
   "metadata": {},
   "source": [
    "#### Exercice 2\n",
    "Avec les mêmes logs que l'exercice précédent, comptez et affichez les différents user-agent."
   ]
  },
  {
   "cell_type": "code",
   "execution_count": 56,
   "metadata": {},
   "outputs": [
    {
     "name": "stdout",
     "output_type": "stream",
     "text": [
      "      2 Mozilla/5.0 (Linux; Android 6.0.1; Nexus 5X Build/MMB29P) AppleWebKit/537.36 (KHTML, like Gecko) Chrome/85.0.4183.97 Mobile Safari/537.36 (compatible; Googlebot/2.1; +http://www.google.com/bot.html)\n",
      "      2 Mozilla/5.0 (Windows NT 10.0; Win64; x64; rv:80.0) Gecko/20100101 Firefox/80.0\n",
      "      2 Mozilla/5.0 (X11; Linux x86_64) AppleWebKit/537.36 (KHTML, like Gecko) Chrome/81.0.4044.129 Safari/537.36\n",
      "      1 Mozilla/5.0 (X11; Ubuntu; Linux x86_64; rv:76.0) Gecko/20100101 Firefox/76.0\n",
      "      1 Mozilla/5.0 zgrab/0.x\n"
     ]
    }
   ],
   "source": [
    "!cat logs.txt | cut -d '\"' -f 6 | sort | uniq -c"
   ]
  }
 ],
 "metadata": {
  "kernelspec": {
   "display_name": "Python 3.9.12 ('base')",
   "language": "python",
   "name": "python3"
  },
  "language_info": {
   "codemirror_mode": {
    "name": "ipython",
    "version": 3
   },
   "file_extension": ".py",
   "mimetype": "text/x-python",
   "name": "python",
   "nbconvert_exporter": "python",
   "pygments_lexer": "ipython3",
   "version": "3.9.12"
  },
  "vscode": {
   "interpreter": {
    "hash": "ad2bdc8ecc057115af97d19610ffacc2b4e99fae6737bb82f5d7fb13d2f2c186"
   }
  }
 },
 "nbformat": 4,
 "nbformat_minor": 4
}
